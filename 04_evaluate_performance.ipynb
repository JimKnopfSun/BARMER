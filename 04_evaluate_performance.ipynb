{
 "cells": [
  {
   "cell_type": "markdown",
   "metadata": {
    "Collapsed": "false"
   },
   "source": [
    "# Load Libraries"
   ]
  },
  {
   "cell_type": "code",
   "execution_count": 1,
   "metadata": {
    "Collapsed": "false"
   },
   "outputs": [
    {
     "name": "stderr",
     "output_type": "stream",
     "text": [
      "Using TensorFlow backend.\n",
      "C:\\Users\\tbraeutigam\\AppData\\Local\\Continuum\\anaconda3\\envs\\BARMER_DSP\\lib\\site-packages\\tensorflow\\python\\framework\\dtypes.py:526: FutureWarning: Passing (type, 1) or '1type' as a synonym of type is deprecated; in a future version of numpy, it will be understood as (type, (1,)) / '(1,)type'.\n",
      "  _np_qint8 = np.dtype([(\"qint8\", np.int8, 1)])\n",
      "C:\\Users\\tbraeutigam\\AppData\\Local\\Continuum\\anaconda3\\envs\\BARMER_DSP\\lib\\site-packages\\tensorflow\\python\\framework\\dtypes.py:527: FutureWarning: Passing (type, 1) or '1type' as a synonym of type is deprecated; in a future version of numpy, it will be understood as (type, (1,)) / '(1,)type'.\n",
      "  _np_quint8 = np.dtype([(\"quint8\", np.uint8, 1)])\n",
      "C:\\Users\\tbraeutigam\\AppData\\Local\\Continuum\\anaconda3\\envs\\BARMER_DSP\\lib\\site-packages\\tensorflow\\python\\framework\\dtypes.py:528: FutureWarning: Passing (type, 1) or '1type' as a synonym of type is deprecated; in a future version of numpy, it will be understood as (type, (1,)) / '(1,)type'.\n",
      "  _np_qint16 = np.dtype([(\"qint16\", np.int16, 1)])\n",
      "C:\\Users\\tbraeutigam\\AppData\\Local\\Continuum\\anaconda3\\envs\\BARMER_DSP\\lib\\site-packages\\tensorflow\\python\\framework\\dtypes.py:529: FutureWarning: Passing (type, 1) or '1type' as a synonym of type is deprecated; in a future version of numpy, it will be understood as (type, (1,)) / '(1,)type'.\n",
      "  _np_quint16 = np.dtype([(\"quint16\", np.uint16, 1)])\n",
      "C:\\Users\\tbraeutigam\\AppData\\Local\\Continuum\\anaconda3\\envs\\BARMER_DSP\\lib\\site-packages\\tensorflow\\python\\framework\\dtypes.py:530: FutureWarning: Passing (type, 1) or '1type' as a synonym of type is deprecated; in a future version of numpy, it will be understood as (type, (1,)) / '(1,)type'.\n",
      "  _np_qint32 = np.dtype([(\"qint32\", np.int32, 1)])\n",
      "C:\\Users\\tbraeutigam\\AppData\\Local\\Continuum\\anaconda3\\envs\\BARMER_DSP\\lib\\site-packages\\tensorflow\\python\\framework\\dtypes.py:535: FutureWarning: Passing (type, 1) or '1type' as a synonym of type is deprecated; in a future version of numpy, it will be understood as (type, (1,)) / '(1,)type'.\n",
      "  np_resource = np.dtype([(\"resource\", np.ubyte, 1)])\n"
     ]
    }
   ],
   "source": [
    "from numpy import mean\n",
    "from numpy import std\n",
    "from numpy import dstack\n",
    "from pandas import read_csv\n",
    "from keras.models import Sequential\n",
    "from keras.layers import Dense\n",
    "from keras.layers import Flatten\n",
    "from keras.layers import Dropout\n",
    "from keras.layers import ConvLSTM2D\n",
    "from keras.utils import to_categorical\n",
    "from keras.models import model_from_json\n",
    "import pandas as pd\n",
    "from hdfs import InsecureClient\n",
    "import mlflow\n",
    "import os\n",
    "import shutil"
   ]
  },
  {
   "cell_type": "markdown",
   "metadata": {},
   "source": [
    "# Connect to Hadoop"
   ]
  },
  {
   "cell_type": "code",
   "execution_count": 2,
   "metadata": {},
   "outputs": [],
   "source": [
    "client_hdfs = InsecureClient('http://awscdh6-ma.sap.local:9870', user='dr.who')"
   ]
  },
  {
   "cell_type": "code",
   "execution_count": 3,
   "metadata": {},
   "outputs": [
    {
     "data": {
      "text/plain": [
       "['data_labeled_performance',\n",
       " 'data_labeled_training',\n",
       " 'data_unlabeled_predictions',\n",
       " 'model']"
      ]
     },
     "execution_count": 3,
     "metadata": {},
     "output_type": "execute_result"
    }
   ],
   "source": [
    "client_hdfs.list('/tmp/tbr/BARMER/DSP')"
   ]
  },
  {
   "cell_type": "markdown",
   "metadata": {
    "Collapsed": "false"
   },
   "source": [
    "# Load Model from Hadoop"
   ]
  },
  {
   "cell_type": "markdown",
   "metadata": {
    "Collapsed": "false"
   },
   "source": [
    "Model Structure:"
   ]
  },
  {
   "cell_type": "code",
   "execution_count": 4,
   "metadata": {},
   "outputs": [
    {
     "name": "stdout",
     "output_type": "stream",
     "text": [
      "WARNING:tensorflow:From C:\\Users\\tbraeutigam\\AppData\\Local\\Continuum\\anaconda3\\envs\\BARMER_DSP\\lib\\site-packages\\tensorflow\\python\\ops\\resource_variable_ops.py:435: colocate_with (from tensorflow.python.framework.ops) is deprecated and will be removed in a future version.\n",
      "Instructions for updating:\n",
      "Colocations handled automatically by placer.\n"
     ]
    },
    {
     "name": "stderr",
     "output_type": "stream",
     "text": [
      "C:\\Users\\tbraeutigam\\AppData\\Local\\Continuum\\anaconda3\\envs\\BARMER_DSP\\lib\\site-packages\\tensorflow\\python\\framework\\tensor_util.py:125: DeprecationWarning: np.asscalar(a) is deprecated since NumPy v1.16, use a.item() instead\n",
      "  tensor_proto.float_val.extend([np.asscalar(x) for x in proto_values])\n"
     ]
    }
   ],
   "source": [
    "with client_hdfs.read('/tmp/tbr/BARMER/DSP/model/model_structure.json', encoding='utf-8') as reader:\n",
    "    loaded_model_json = reader.read()\n",
    "    reader.close()\n",
    "\n",
    "model = model_from_json(loaded_model_json)"
   ]
  },
  {
   "cell_type": "code",
   "execution_count": 5,
   "metadata": {},
   "outputs": [
    {
     "data": {
      "text/plain": [
       "'{\"class_name\": \"Sequential\", \"config\": {\"name\": \"sequential_1\", \"layers\": [{\"class_name\": \"ConvLSTM2'"
      ]
     },
     "execution_count": 5,
     "metadata": {},
     "output_type": "execute_result"
    }
   ],
   "source": [
    "loaded_model_json[:100]"
   ]
  },
  {
   "cell_type": "markdown",
   "metadata": {
    "Collapsed": "false"
   },
   "source": [
    "Model Weights:"
   ]
  },
  {
   "cell_type": "code",
   "execution_count": 6,
   "metadata": {},
   "outputs": [
    {
     "data": {
      "text/plain": [
       "'C:\\\\Users\\\\tbraeutigam\\\\OneDrive\\\\Data Science\\\\Code\\\\ISR\\\\ISR - BARMER\\\\ISR DSP\\\\download'"
      ]
     },
     "execution_count": 6,
     "metadata": {},
     "output_type": "execute_result"
    }
   ],
   "source": [
    "path = \"/tmp/tbr/BARMER/DSP/model/model_weights.h5\"\n",
    "download_path = client_hdfs.download(path, 'download', overwrite=True)\n",
    "download_path"
   ]
  },
  {
   "cell_type": "code",
   "execution_count": 7,
   "metadata": {
    "Collapsed": "false"
   },
   "outputs": [],
   "source": [
    "# load weights into new model\n",
    "model.load_weights(download_path)"
   ]
  },
  {
   "cell_type": "markdown",
   "metadata": {
    "Collapsed": "false"
   },
   "source": [
    "Compile model:"
   ]
  },
  {
   "cell_type": "code",
   "execution_count": 8,
   "metadata": {
    "Collapsed": "false"
   },
   "outputs": [],
   "source": [
    "# compile loaded model \n",
    "model.compile(loss='binary_crossentropy', optimizer='rmsprop', metrics=['accuracy'])"
   ]
  },
  {
   "cell_type": "markdown",
   "metadata": {},
   "source": [
    "Delete temp folder"
   ]
  },
  {
   "cell_type": "code",
   "execution_count": 9,
   "metadata": {},
   "outputs": [],
   "source": [
    "os.remove(\"download\")"
   ]
  },
  {
   "cell_type": "markdown",
   "metadata": {
    "Collapsed": "false"
   },
   "source": [
    "# Load Data (labeled) from Hadoop"
   ]
  },
  {
   "cell_type": "code",
   "execution_count": 10,
   "metadata": {},
   "outputs": [
    {
     "data": {
      "text/plain": [
       "['body_acc_x.txt',\n",
       " 'body_acc_y.txt',\n",
       " 'body_acc_z.txt',\n",
       " 'body_gyro_x.txt',\n",
       " 'body_gyro_y.txt',\n",
       " 'body_gyro_z.txt',\n",
       " 'total_acc_x.txt',\n",
       " 'total_acc_y.txt',\n",
       " 'total_acc_z.txt',\n",
       " 'y_labels.txt']"
      ]
     },
     "execution_count": 10,
     "metadata": {},
     "output_type": "execute_result"
    }
   ],
   "source": [
    "# Check Trainings Data\n",
    "client_hdfs.list('/tmp/tbr/BARMER/DSP/data_labeled_performance/Inertial Signals')"
   ]
  },
  {
   "cell_type": "code",
   "execution_count": 11,
   "metadata": {
    "Collapsed": "false"
   },
   "outputs": [],
   "source": [
    "# load the dataset, returns train and test X and y elements\n",
    "def load_dataset(prefix):\n",
    "    # load data and labels\n",
    "    X, y = load_dataset_group(prefix)\n",
    "    \n",
    "    # zero-offset class values\n",
    "    y = y - 1\n",
    "    \n",
    "    # one hot encode y\n",
    "    y = to_categorical(y)\n",
    "    \n",
    "    # return dataset\n",
    "    return X, y"
   ]
  },
  {
   "cell_type": "markdown",
   "metadata": {
    "Collapsed": "false"
   },
   "source": [
    "A function for loading a dataset group of files"
   ]
  },
  {
   "cell_type": "code",
   "execution_count": 12,
   "metadata": {
    "Collapsed": "false"
   },
   "outputs": [],
   "source": [
    "# load a dataset group, such as train or test\n",
    "def load_dataset_group(group):\n",
    "    \n",
    "    # load all 9 files as a single array\n",
    "    filenames = list()\n",
    "    \n",
    "    # total acceleration\n",
    "    filenames += ['/Inertial Signals/total_acc_x.txt',\n",
    "                  '/Inertial Signals/total_acc_y.txt',\n",
    "                  '/Inertial Signals/total_acc_z.txt']\n",
    "    \n",
    "    # body acceleration\n",
    "    filenames += ['/Inertial Signals/body_acc_x.txt',\n",
    "                  '/Inertial Signals/body_acc_y.txt',\n",
    "                  '/Inertial Signals/body_acc_z.txt']\n",
    "    \n",
    "    # body gyroscope\n",
    "    filenames += ['/Inertial Signals/body_gyro_x.txt',\n",
    "                  '/Inertial Signals/body_gyro_y.txt',\n",
    "                  '/Inertial Signals/body_gyro_z.txt']\n",
    "    \n",
    "    # load input data\n",
    "    X = load_group(filenames, group)\n",
    "    \n",
    "    # load class output\n",
    "    y = load_file(group+'/Inertial Signals/y_labels.txt')\n",
    "    \n",
    "    # return X and y\n",
    "    return X, y"
   ]
  },
  {
   "cell_type": "markdown",
   "metadata": {
    "Collapsed": "false"
   },
   "source": [
    "A function for loading a group of files"
   ]
  },
  {
   "cell_type": "code",
   "execution_count": 13,
   "metadata": {
    "Collapsed": "false"
   },
   "outputs": [],
   "source": [
    "# load a list of files and return as a 3d numpy array\n",
    "def load_group(filenames, group):\n",
    "    loaded = list()\n",
    "    \n",
    "    for name in filenames:\n",
    "\n",
    "        data = load_file(group+name)\n",
    "        loaded.append(data)\n",
    "    \n",
    "    # stack group so that features are the 3rd dimension\n",
    "    loaded = dstack(loaded)\n",
    "    return loaded"
   ]
  },
  {
   "cell_type": "markdown",
   "metadata": {
    "Collapsed": "false"
   },
   "source": [
    "A function for loading a single file"
   ]
  },
  {
   "cell_type": "code",
   "execution_count": 14,
   "metadata": {
    "Collapsed": "false"
   },
   "outputs": [],
   "source": [
    "# load a single file as a numpy array\n",
    "def load_file(filepath):\n",
    "    path = '/tmp/tbr/BARMER/DSP/' + filepath\n",
    "    \n",
    "    with client_hdfs.read(path, encoding = 'utf-8') as reader:\n",
    "        dataframe = pd.read_csv(reader, header=None, delim_whitespace=True)   \n",
    "        \n",
    "    return dataframe.values"
   ]
  },
  {
   "cell_type": "markdown",
   "metadata": {
    "Collapsed": "false"
   },
   "source": [
    "Execute Function-Chain"
   ]
  },
  {
   "cell_type": "code",
   "execution_count": 15,
   "metadata": {
    "Collapsed": "false"
   },
   "outputs": [],
   "source": [
    "# load test data\n",
    "testX, testy = load_dataset('data_labeled_performance')"
   ]
  },
  {
   "cell_type": "code",
   "execution_count": 16,
   "metadata": {},
   "outputs": [
    {
     "data": {
      "text/plain": [
       "array([[ 1.041216  , -0.2697959 ,  0.02377977, ...,  0.4374637 ,\n",
       "         0.5313492 ,  0.1365279 ],\n",
       "       [ 1.041803  , -0.280025  ,  0.07629271, ...,  0.4682641 ,\n",
       "         0.7210685 ,  0.09762239],\n",
       "       [ 1.039086  , -0.2926631 ,  0.1474754 , ...,  0.4982574 ,\n",
       "         0.5203284 ,  0.08355578],\n",
       "       ...,\n",
       "       [ 0.9930164 , -0.2599865 ,  0.1443951 , ..., -0.00505586,\n",
       "        -0.07734212,  0.03225787],\n",
       "       [ 0.9932414 , -0.2620643 ,  0.1447033 , ..., -0.02043194,\n",
       "        -0.072973  ,  0.02700848],\n",
       "       [ 0.9943906 , -0.2641348 ,  0.1454939 , ..., -0.02999741,\n",
       "        -0.07064875,  0.03054609]])"
      ]
     },
     "execution_count": 16,
     "metadata": {},
     "output_type": "execute_result"
    }
   ],
   "source": [
    "testX[0]"
   ]
  },
  {
   "cell_type": "code",
   "execution_count": 17,
   "metadata": {},
   "outputs": [
    {
     "data": {
      "text/plain": [
       "array([0., 0., 0., 0., 1., 0.], dtype=float32)"
      ]
     },
     "execution_count": 17,
     "metadata": {},
     "output_type": "execute_result"
    }
   ],
   "source": [
    "testy[0]"
   ]
  },
  {
   "cell_type": "markdown",
   "metadata": {},
   "source": [
    "# Data Preprocessing"
   ]
  },
  {
   "cell_type": "markdown",
   "metadata": {
    "Collapsed": "false"
   },
   "source": [
    "# Evaluate Performance"
   ]
  },
  {
   "cell_type": "code",
   "execution_count": 18,
   "metadata": {
    "Collapsed": "false"
   },
   "outputs": [],
   "source": [
    "def evaluate_performance(testX, testy):\n",
    "\n",
    "    # reshape data into subsequences (samples, time steps, rows, cols, channels)\n",
    "    samples = testX.shape[0]\n",
    "    time_steps = 4\n",
    "    rows = 1\n",
    "    columns = 32\n",
    "    channels = 9 #number of features    \n",
    "    testX = testX.reshape((samples, time_steps, rows, columns, channels))\n",
    "    \n",
    "    loss, accuracy = model.evaluate(testX, testy, verbose=0)\n",
    "    return loss, accuracy   "
   ]
  },
  {
   "cell_type": "code",
   "execution_count": 19,
   "metadata": {
    "Collapsed": "false"
   },
   "outputs": [],
   "source": [
    "loss, accuracy = evaluate_performance(testX, testy)"
   ]
  },
  {
   "cell_type": "code",
   "execution_count": 20,
   "metadata": {
    "Collapsed": "false"
   },
   "outputs": [
    {
     "data": {
      "text/plain": [
       "(0.16067222294393982, 0.9662368297576904)"
      ]
     },
     "execution_count": 20,
     "metadata": {},
     "output_type": "execute_result"
    }
   ],
   "source": [
    "loss, accuracy"
   ]
  },
  {
   "cell_type": "markdown",
   "metadata": {},
   "source": [
    "# Update MLflow on Hadoop"
   ]
  },
  {
   "cell_type": "code",
   "execution_count": 21,
   "metadata": {},
   "outputs": [
    {
     "data": {
      "text/plain": [
       "'C:\\\\Users\\\\tbraeutigam\\\\OneDrive\\\\Data Science\\\\Code\\\\ISR\\\\ISR - BARMER\\\\ISR DSP\\\\mlruns'"
      ]
     },
     "execution_count": 21,
     "metadata": {},
     "output_type": "execute_result"
    }
   ],
   "source": [
    "client_hdfs.download(\"/tmp/tbr/BARMER/DSP/model/mlruns\", \"./mlruns\", overwrite=True)"
   ]
  },
  {
   "cell_type": "code",
   "execution_count": 22,
   "metadata": {},
   "outputs": [
    {
     "data": {
      "text/plain": [
       "'1'"
      ]
     },
     "execution_count": 22,
     "metadata": {},
     "output_type": "execute_result"
    }
   ],
   "source": [
    "mlflow.set_tracking_uri('./mlruns')\n",
    "experiment = mlflow.get_experiment_by_name('Activity_Recognition')\n",
    "experiment.experiment_id"
   ]
  },
  {
   "cell_type": "code",
   "execution_count": 23,
   "metadata": {},
   "outputs": [],
   "source": [
    "#mlflow.set_experiment(name='Activity_Recognition')\n",
    "mlflow.start_run(experiment_id=experiment.experiment_id,\n",
    "                 run_name='04_evaluate_performance')\n",
    "mlflow.set_tag(\"type\", \"evaluation\")\n",
    "mlflow.log_metric(\"loss\", loss)\n",
    "mlflow.log_metric(\"accuracy\", accuracy)\n",
    "mlflow.log_param(\"Examples Testing\",len(testX))\n",
    "mlflow.log_param(\"model\",\"Keras\")\n",
    "#mlflow.log_artifact(\"04_evaluate_performance.ipynb\")\n",
    "mlflow.log_artifact(\"/vrep/vflow/tmp/DSP/EXECUTED/04_evaluate_performance.ipynb\") #Location in Datahub\n",
    "mlflow.end_run()"
   ]
  },
  {
   "cell_type": "code",
   "execution_count": 24,
   "metadata": {},
   "outputs": [
    {
     "data": {
      "text/plain": [
       "'./mlruns'"
      ]
     },
     "execution_count": 24,
     "metadata": {},
     "output_type": "execute_result"
    }
   ],
   "source": [
    "local_path = mlflow.get_tracking_uri()\n",
    "mlflow.end_run()\n",
    "local_path"
   ]
  },
  {
   "cell_type": "code",
   "execution_count": 25,
   "metadata": {},
   "outputs": [],
   "source": [
    "path = \"/tmp/tbr/BARMER/DSP/model/\"\n",
    "_ = client_hdfs.upload(hdfs_path=path, local_path=local_path, overwrite=True)"
   ]
  },
  {
   "cell_type": "code",
   "execution_count": 26,
   "metadata": {},
   "outputs": [
    {
     "data": {
      "text/plain": [
       "['.trash', '0', '1']"
      ]
     },
     "execution_count": 26,
     "metadata": {},
     "output_type": "execute_result"
    }
   ],
   "source": [
    "client_hdfs.list('/tmp/tbr/BARMER/DSP/model/mlruns')"
   ]
  },
  {
   "cell_type": "markdown",
   "metadata": {},
   "source": [
    "Delete temp folder"
   ]
  },
  {
   "cell_type": "code",
   "execution_count": 27,
   "metadata": {},
   "outputs": [],
   "source": [
    "shutil.rmtree(local_path, ignore_errors=True)"
   ]
  }
 ],
 "metadata": {
  "kernelspec": {
   "display_name": "Python 3",
   "language": "python",
   "name": "python3"
  },
  "language_info": {
   "codemirror_mode": {
    "name": "ipython",
    "version": 3
   },
   "file_extension": ".py",
   "mimetype": "text/x-python",
   "name": "python",
   "nbconvert_exporter": "python",
   "pygments_lexer": "ipython3",
   "version": "3.7.6"
  }
 },
 "nbformat": 4,
 "nbformat_minor": 4
}
